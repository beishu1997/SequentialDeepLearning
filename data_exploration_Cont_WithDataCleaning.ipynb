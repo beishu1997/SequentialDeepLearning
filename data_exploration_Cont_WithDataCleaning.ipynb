{
 "cells": [
  {
   "cell_type": "code",
   "execution_count": 1,
   "metadata": {
    "ExecuteTime": {
     "end_time": "2019-10-10T15:25:35.386010Z",
     "start_time": "2019-10-10T15:25:35.380375Z"
    }
   },
   "outputs": [],
   "source": [
    "from datetime import datetime\n",
    "import numpy as np\n",
    "import pandas as pd\n",
    "from tqdm import tqdm\n",
    "import json\n",
    "from sklearn.preprocessing import LabelEncoder"
   ]
  },
  {
   "cell_type": "markdown",
   "metadata": {},
   "source": [
    "## data loading for sequential embedding"
   ]
  },
  {
   "cell_type": "code",
   "execution_count": 2,
   "metadata": {
    "ExecuteTime": {
     "end_time": "2019-10-10T12:19:58.074089Z",
     "start_time": "2019-10-10T12:19:46.171214Z"
    }
   },
   "outputs": [
    {
     "name": "stdout",
     "output_type": "stream",
     "text": [
      "Wall time: 22.8 s\n"
     ]
    }
   ],
   "source": [
    "%%time\n",
    "sequential_data = []\n",
    "\n",
    "with open('D:/DeepLearningProjectDATA/dataForSequentialEmbedding/data_train.json', 'r') as f:\n",
    "    for line in f:\n",
    "        sequential_data.append(json.loads(line))"
   ]
  },
  {
   "cell_type": "markdown",
   "metadata": {},
   "source": [
    "- the unique key for each sample is the combination of userid and application time\n",
    "    - applicants might apply more than one time (same userid, differenty application time)"
   ]
  },
  {
   "cell_type": "code",
   "execution_count": 3,
   "metadata": {
    "ExecuteTime": {
     "end_time": "2019-10-10T12:45:49.630001Z",
     "start_time": "2019-10-10T12:45:47.083769Z"
    }
   },
   "outputs": [
    {
     "name": "stdout",
     "output_type": "stream",
     "text": [
      "Wall time: 2.61 s\n"
     ]
    }
   ],
   "source": [
    "%%time\n",
    "sequential_driver = {} \n",
    "\n",
    "sequential_behavior = {}\n",
    "\n",
    "for item in sequential_data:\n",
    "    \n",
    "    user_id = item[0]\n",
    "    \n",
    "    application_time = int(item[1]['order_info']['order_time'])\n",
    "    \n",
    "    sequential_driver.update({f\"{user_id}|{application_time}\" : item[1]['order_info']})\n",
    "    \n",
    "    sub_data = [x for x in item[1]['data'] if x['petime']<=application_time-100]\n",
    "    # we only keep data occurs before application time. \"-100\" is not neccessary for offline data cleaning.\n",
    "    ## but sometimes we use this trick for online calculation to avoid network slowdown\n",
    "    \n",
    "    sequential_behavior.update({f\"{user_id}|{application_time}\":sub_data})"
   ]
  },
  {
   "cell_type": "markdown",
   "metadata": {},
   "source": [
    "### driver understanding"
   ]
  },
  {
   "cell_type": "code",
   "execution_count": 4,
   "metadata": {
    "ExecuteTime": {
     "end_time": "2019-10-10T12:46:46.744416Z",
     "start_time": "2019-10-10T12:46:36.223761Z"
    }
   },
   "outputs": [],
   "source": [
    "driver = pd.DataFrame(sequential_driver).T.reset_index()\n",
    "driver['user_id'] = driver['index'].apply(lambda x : x.split('|')[0])\n",
    "driver['application_time'] = driver['index'].apply(lambda x : x.split('|')[1])"
   ]
  },
  {
   "cell_type": "code",
   "execution_count": 5,
   "metadata": {
    "ExecuteTime": {
     "end_time": "2019-10-10T12:47:05.400131Z",
     "start_time": "2019-10-10T12:47:05.383282Z"
    },
    "scrolled": true
   },
   "outputs": [
    {
     "data": {
      "text/plain": [
       "0.0    121429\n",
       "1.0     78571\n",
       "Name: new_client, dtype: int64"
      ]
     },
     "execution_count": 5,
     "metadata": {},
     "output_type": "execute_result"
    }
   ],
   "source": [
    "driver['new_client'].value_counts()\n",
    "\n",
    "# we normally separate new client (0) and old client (1) because they have different data pattern and data density"
   ]
  },
  {
   "cell_type": "code",
   "execution_count": 6,
   "metadata": {
    "ExecuteTime": {
     "end_time": "2019-10-10T12:48:52.429294Z",
     "start_time": "2019-10-10T12:48:51.623808Z"
    }
   },
   "outputs": [],
   "source": [
    "# converting unix time to real time\n",
    "\n",
    "driver['application_date'] = pd.to_datetime(driver['order_time'],unit='ms')"
   ]
  },
  {
   "cell_type": "code",
   "execution_count": 7,
   "metadata": {
    "ExecuteTime": {
     "end_time": "2019-10-10T12:48:53.225299Z",
     "start_time": "2019-10-10T12:48:53.202937Z"
    }
   },
   "outputs": [
    {
     "data": {
      "text/html": [
       "<div>\n",
       "<style scoped>\n",
       "    .dataframe tbody tr th:only-of-type {\n",
       "        vertical-align: middle;\n",
       "    }\n",
       "\n",
       "    .dataframe tbody tr th {\n",
       "        vertical-align: top;\n",
       "    }\n",
       "\n",
       "    .dataframe thead th {\n",
       "        text-align: right;\n",
       "    }\n",
       "</style>\n",
       "<table border=\"1\" class=\"dataframe\">\n",
       "  <thead>\n",
       "    <tr style=\"text-align: right;\">\n",
       "      <th></th>\n",
       "      <th>index</th>\n",
       "      <th>label</th>\n",
       "      <th>new_client</th>\n",
       "      <th>order_time</th>\n",
       "      <th>overdue</th>\n",
       "      <th>user_id</th>\n",
       "      <th>application_time</th>\n",
       "      <th>application_date</th>\n",
       "    </tr>\n",
       "  </thead>\n",
       "  <tbody>\n",
       "    <tr>\n",
       "      <th>0</th>\n",
       "      <td>56f889ee11df4a72955147cb2f29a638|1509322980000</td>\n",
       "      <td>0.0</td>\n",
       "      <td>0.0</td>\n",
       "      <td>1.509323e+12</td>\n",
       "      <td>0.0</td>\n",
       "      <td>56f889ee11df4a72955147cb2f29a638</td>\n",
       "      <td>1509322980000</td>\n",
       "      <td>2017-10-30 00:23:00</td>\n",
       "    </tr>\n",
       "    <tr>\n",
       "      <th>1</th>\n",
       "      <td>82ba63c78d5543b7b2fd1b44412ea954|1507609140000</td>\n",
       "      <td>0.0</td>\n",
       "      <td>0.0</td>\n",
       "      <td>1.507609e+12</td>\n",
       "      <td>1.0</td>\n",
       "      <td>82ba63c78d5543b7b2fd1b44412ea954</td>\n",
       "      <td>1507609140000</td>\n",
       "      <td>2017-10-10 04:19:00</td>\n",
       "    </tr>\n",
       "    <tr>\n",
       "      <th>2</th>\n",
       "      <td>d84540c274cc43b894997f633fcf47b9|1509373080000</td>\n",
       "      <td>0.0</td>\n",
       "      <td>0.0</td>\n",
       "      <td>1.509373e+12</td>\n",
       "      <td>1.0</td>\n",
       "      <td>d84540c274cc43b894997f633fcf47b9</td>\n",
       "      <td>1509373080000</td>\n",
       "      <td>2017-10-30 14:18:00</td>\n",
       "    </tr>\n",
       "    <tr>\n",
       "      <th>3</th>\n",
       "      <td>b8206ff0ea1f4cf4abda18d0e0145497|1507529520000</td>\n",
       "      <td>0.0</td>\n",
       "      <td>1.0</td>\n",
       "      <td>1.507530e+12</td>\n",
       "      <td>0.0</td>\n",
       "      <td>b8206ff0ea1f4cf4abda18d0e0145497</td>\n",
       "      <td>1507529520000</td>\n",
       "      <td>2017-10-09 06:12:00</td>\n",
       "    </tr>\n",
       "    <tr>\n",
       "      <th>4</th>\n",
       "      <td>6e5f6b151edd4d40b51ca3b75e392f8d|1506805920000</td>\n",
       "      <td>0.0</td>\n",
       "      <td>1.0</td>\n",
       "      <td>1.506806e+12</td>\n",
       "      <td>0.0</td>\n",
       "      <td>6e5f6b151edd4d40b51ca3b75e392f8d</td>\n",
       "      <td>1506805920000</td>\n",
       "      <td>2017-09-30 21:12:00</td>\n",
       "    </tr>\n",
       "  </tbody>\n",
       "</table>\n",
       "</div>"
      ],
      "text/plain": [
       "                                            index  label  new_client  \\\n",
       "0  56f889ee11df4a72955147cb2f29a638|1509322980000    0.0         0.0   \n",
       "1  82ba63c78d5543b7b2fd1b44412ea954|1507609140000    0.0         0.0   \n",
       "2  d84540c274cc43b894997f633fcf47b9|1509373080000    0.0         0.0   \n",
       "3  b8206ff0ea1f4cf4abda18d0e0145497|1507529520000    0.0         1.0   \n",
       "4  6e5f6b151edd4d40b51ca3b75e392f8d|1506805920000    0.0         1.0   \n",
       "\n",
       "     order_time  overdue                           user_id application_time  \\\n",
       "0  1.509323e+12      0.0  56f889ee11df4a72955147cb2f29a638    1509322980000   \n",
       "1  1.507609e+12      1.0  82ba63c78d5543b7b2fd1b44412ea954    1507609140000   \n",
       "2  1.509373e+12      1.0  d84540c274cc43b894997f633fcf47b9    1509373080000   \n",
       "3  1.507530e+12      0.0  b8206ff0ea1f4cf4abda18d0e0145497    1507529520000   \n",
       "4  1.506806e+12      0.0  6e5f6b151edd4d40b51ca3b75e392f8d    1506805920000   \n",
       "\n",
       "     application_date  \n",
       "0 2017-10-30 00:23:00  \n",
       "1 2017-10-10 04:19:00  \n",
       "2 2017-10-30 14:18:00  \n",
       "3 2017-10-09 06:12:00  \n",
       "4 2017-09-30 21:12:00  "
      ]
     },
     "execution_count": 7,
     "metadata": {},
     "output_type": "execute_result"
    }
   ],
   "source": [
    "driver.head()"
   ]
  },
  {
   "cell_type": "code",
   "execution_count": 8,
   "metadata": {
    "ExecuteTime": {
     "end_time": "2019-10-10T12:49:10.669844Z",
     "start_time": "2019-10-10T12:49:10.655832Z"
    }
   },
   "outputs": [
    {
     "data": {
      "text/plain": [
       "0.0    183986\n",
       "1.0     16014\n",
       "Name: label, dtype: int64"
      ]
     },
     "execution_count": 8,
     "metadata": {},
     "output_type": "execute_result"
    }
   ],
   "source": [
    "driver['label'].value_counts()"
   ]
  },
  {
   "cell_type": "markdown",
   "metadata": {},
   "source": [
    "### data understanding"
   ]
  },
  {
   "cell_type": "code",
   "execution_count": 17,
   "metadata": {
    "ExecuteTime": {
     "end_time": "2019-10-10T12:55:18.785870Z",
     "start_time": "2019-10-10T12:55:14.700380Z"
    }
   },
   "outputs": [
    {
     "name": "stdout",
     "output_type": "stream",
     "text": [
      "Wall time: 4.06 s\n"
     ]
    }
   ],
   "source": [
    "%%time\n",
    "# converting data into dataframe \n",
    "## this is not neccessary during modeling phase cause we can use data_generator (presented in data usage)\n",
    "\n",
    "behavior = []\n",
    "\n",
    "for user_keys in sequential_behavior:\n",
    "    \n",
    "    user_id, application_time = user_keys.split(\"|\")\n",
    "    \n",
    "    for item in sequential_behavior[user_keys]:\n",
    "        \n",
    "        subitem = item.copy()\n",
    "        subitem.update({\"user_id\":user_id, \"application_time\":application_time})\n",
    "        behavior.append(subitem)"
   ]
  },
  {
   "cell_type": "code",
   "execution_count": 18,
   "metadata": {
    "ExecuteTime": {
     "end_time": "2019-10-10T12:55:29.775174Z",
     "start_time": "2019-10-10T12:55:21.970255Z"
    }
   },
   "outputs": [],
   "source": [
    "behavior = pd.DataFrame(behavior)"
   ]
  },
  {
   "cell_type": "code",
   "execution_count": 19,
   "metadata": {
    "ExecuteTime": {
     "end_time": "2019-10-10T12:55:54.950042Z",
     "start_time": "2019-10-10T12:55:54.652906Z"
    }
   },
   "outputs": [
    {
     "data": {
      "text/plain": [
       "((5521272, 7), 117717)"
      ]
     },
     "execution_count": 19,
     "metadata": {},
     "output_type": "execute_result"
    }
   ],
   "source": [
    "behavior.shape, behavior.user_id.nunique()"
   ]
  },
  {
   "cell_type": "code",
   "execution_count": 20,
   "metadata": {
    "ExecuteTime": {
     "end_time": "2019-10-10T13:00:41.425231Z",
     "start_time": "2019-10-10T13:00:41.339078Z"
    }
   },
   "outputs": [
    {
     "data": {
      "text/plain": [
       "50077"
      ]
     },
     "execution_count": 20,
     "metadata": {},
     "output_type": "execute_result"
    }
   ],
   "source": [
    "len([x.split('|')[0] for x in sequential_behavior if len(sequential_behavior[x])==0])\n",
    "\n",
    "# there might be several application without any behavior data due to many reasons (which can be ignored)\n",
    "# data inclusion logic for keys with empty data will be presented in data usage"
   ]
  },
  {
   "cell_type": "code",
   "execution_count": 21,
   "metadata": {
    "ExecuteTime": {
     "end_time": "2019-10-10T14:08:02.075670Z",
     "start_time": "2019-10-10T14:07:57.418003Z"
    },
    "scrolled": true
   },
   "outputs": [],
   "source": [
    "behavior = behavior.sort_values(['user_id', 'application_time', 'petime'])"
   ]
  },
  {
   "cell_type": "code",
   "execution_count": 22,
   "metadata": {
    "ExecuteTime": {
     "end_time": "2019-10-10T14:10:58.878085Z",
     "start_time": "2019-10-10T14:10:58.223794Z"
    }
   },
   "outputs": [
    {
     "data": {
      "text/plain": [
       "loan_index         2613003\n",
       "personal_info       626540\n",
       "id_verify           580250\n",
       "contacts_info       452041\n",
       "loan_submission     340394\n",
       "operator            297867\n",
       "bind_debit_card     253192\n",
       "biometric_auto      168361\n",
       "login               161428\n",
       "register             22890\n",
       "biometric_auth        5306\n",
       "Name: pname, dtype: int64"
      ]
     },
     "execution_count": 22,
     "metadata": {},
     "output_type": "execute_result"
    }
   ],
   "source": [
    "behavior['pname'].value_counts()"
   ]
  },
  {
   "cell_type": "markdown",
   "metadata": {
    "ExecuteTime": {
     "end_time": "2019-10-10T14:11:10.818988Z",
     "start_time": "2019-10-10T14:11:10.815397Z"
    }
   },
   "source": [
    "### page view path overview"
   ]
  },
  {
   "cell_type": "code",
   "execution_count": 24,
   "metadata": {
    "ExecuteTime": {
     "end_time": "2019-10-10T14:11:08.636608Z",
     "start_time": "2019-10-10T14:11:07.983681Z"
    }
   },
   "outputs": [],
   "source": [
    "page_name = set(behavior['pname'].value_counts().index)"
   ]
  },
  {
   "cell_type": "code",
   "execution_count": 25,
   "metadata": {
    "ExecuteTime": {
     "end_time": "2019-10-10T14:19:52.693139Z",
     "start_time": "2019-10-10T14:19:52.687699Z"
    }
   },
   "outputs": [],
   "source": [
    "page_trannsition_overview = {\n",
    "    f\"from_{x}\" : {\n",
    "        f\"to_{y}\": 0 for y in page_name\n",
    "    }\n",
    "    for x in page_name\n",
    "}"
   ]
  },
  {
   "cell_type": "code",
   "execution_count": 26,
   "metadata": {
    "ExecuteTime": {
     "end_time": "2019-10-10T14:20:12.284405Z",
     "start_time": "2019-10-10T14:20:09.633473Z"
    }
   },
   "outputs": [
    {
     "name": "stdout",
     "output_type": "stream",
     "text": [
      "Wall time: 4.37 s\n"
     ]
    }
   ],
   "source": [
    "%%time\n",
    "for keys in sequential_behavior:\n",
    "    \n",
    "    subdata = sequential_behavior[keys]\n",
    "    subdata.sort(key=lambda x : x['petime'])\n",
    "    \n",
    "    if len(subdata)<2:\n",
    "        pass\n",
    "    \n",
    "    else:\n",
    "\n",
    "        prev_state = subdata[0]['pname']\n",
    "\n",
    "        for item in subdata[1:]:\n",
    "            current_state = item['pname']\n",
    "\n",
    "            page_trannsition_overview[f\"from_{prev_state}\"][f\"to_{current_state}\"] += 1\n",
    "\n",
    "            prev_state = item['pname']"
   ]
  },
  {
   "cell_type": "code",
   "execution_count": 27,
   "metadata": {
    "ExecuteTime": {
     "end_time": "2019-10-10T14:20:13.050354Z",
     "start_time": "2019-10-10T14:20:13.026798Z"
    }
   },
   "outputs": [
    {
     "data": {
      "text/html": [
       "<div>\n",
       "<style scoped>\n",
       "    .dataframe tbody tr th:only-of-type {\n",
       "        vertical-align: middle;\n",
       "    }\n",
       "\n",
       "    .dataframe tbody tr th {\n",
       "        vertical-align: top;\n",
       "    }\n",
       "\n",
       "    .dataframe thead th {\n",
       "        text-align: right;\n",
       "    }\n",
       "</style>\n",
       "<table border=\"1\" class=\"dataframe\">\n",
       "  <thead>\n",
       "    <tr style=\"text-align: right;\">\n",
       "      <th></th>\n",
       "      <th>from_biometric_auth</th>\n",
       "      <th>from_loan_index</th>\n",
       "      <th>from_operator</th>\n",
       "      <th>from_bind_debit_card</th>\n",
       "      <th>from_register</th>\n",
       "      <th>from_contacts_info</th>\n",
       "      <th>from_id_verify</th>\n",
       "      <th>from_loan_submission</th>\n",
       "      <th>from_login</th>\n",
       "      <th>from_biometric_auto</th>\n",
       "      <th>from_personal_info</th>\n",
       "    </tr>\n",
       "  </thead>\n",
       "  <tbody>\n",
       "    <tr>\n",
       "      <th>to_bind_debit_card</th>\n",
       "      <td>8</td>\n",
       "      <td>114913</td>\n",
       "      <td>688</td>\n",
       "      <td>133870</td>\n",
       "      <td>1</td>\n",
       "      <td>14</td>\n",
       "      <td>7</td>\n",
       "      <td>3660</td>\n",
       "      <td>11</td>\n",
       "      <td>0</td>\n",
       "      <td>3</td>\n",
       "    </tr>\n",
       "    <tr>\n",
       "      <th>to_biometric_auth</th>\n",
       "      <td>2368</td>\n",
       "      <td>139</td>\n",
       "      <td>1</td>\n",
       "      <td>1</td>\n",
       "      <td>1</td>\n",
       "      <td>5</td>\n",
       "      <td>2516</td>\n",
       "      <td>0</td>\n",
       "      <td>41</td>\n",
       "      <td>0</td>\n",
       "      <td>6</td>\n",
       "    </tr>\n",
       "    <tr>\n",
       "      <th>to_biometric_auto</th>\n",
       "      <td>0</td>\n",
       "      <td>28002</td>\n",
       "      <td>11</td>\n",
       "      <td>0</td>\n",
       "      <td>0</td>\n",
       "      <td>5</td>\n",
       "      <td>93522</td>\n",
       "      <td>0</td>\n",
       "      <td>2</td>\n",
       "      <td>46804</td>\n",
       "      <td>6</td>\n",
       "    </tr>\n",
       "    <tr>\n",
       "      <th>to_contacts_info</th>\n",
       "      <td>118</td>\n",
       "      <td>10193</td>\n",
       "      <td>17</td>\n",
       "      <td>3</td>\n",
       "      <td>0</td>\n",
       "      <td>345553</td>\n",
       "      <td>40</td>\n",
       "      <td>0</td>\n",
       "      <td>3</td>\n",
       "      <td>2</td>\n",
       "      <td>96098</td>\n",
       "    </tr>\n",
       "    <tr>\n",
       "      <th>to_id_verify</th>\n",
       "      <td>119</td>\n",
       "      <td>169595</td>\n",
       "      <td>38</td>\n",
       "      <td>9</td>\n",
       "      <td>8</td>\n",
       "      <td>20</td>\n",
       "      <td>408239</td>\n",
       "      <td>21</td>\n",
       "      <td>406</td>\n",
       "      <td>29</td>\n",
       "      <td>15</td>\n",
       "    </tr>\n",
       "    <tr>\n",
       "      <th>to_loan_index</th>\n",
       "      <td>210</td>\n",
       "      <td>1782391</td>\n",
       "      <td>162697</td>\n",
       "      <td>115315</td>\n",
       "      <td>22732</td>\n",
       "      <td>16030</td>\n",
       "      <td>69185</td>\n",
       "      <td>236433</td>\n",
       "      <td>155899</td>\n",
       "      <td>28680</td>\n",
       "      <td>2208</td>\n",
       "    </tr>\n",
       "    <tr>\n",
       "      <th>to_loan_submission</th>\n",
       "      <td>3</td>\n",
       "      <td>262439</td>\n",
       "      <td>475</td>\n",
       "      <td>2304</td>\n",
       "      <td>1</td>\n",
       "      <td>9</td>\n",
       "      <td>26</td>\n",
       "      <td>74852</td>\n",
       "      <td>86</td>\n",
       "      <td>0</td>\n",
       "      <td>11</td>\n",
       "    </tr>\n",
       "    <tr>\n",
       "      <th>to_login</th>\n",
       "      <td>7</td>\n",
       "      <td>47011</td>\n",
       "      <td>531</td>\n",
       "      <td>210</td>\n",
       "      <td>54</td>\n",
       "      <td>335</td>\n",
       "      <td>1385</td>\n",
       "      <td>5536</td>\n",
       "      <td>2603</td>\n",
       "      <td>310</td>\n",
       "      <td>68</td>\n",
       "    </tr>\n",
       "    <tr>\n",
       "      <th>to_operator</th>\n",
       "      <td>6</td>\n",
       "      <td>76096</td>\n",
       "      <td>131569</td>\n",
       "      <td>51</td>\n",
       "      <td>0</td>\n",
       "      <td>89757</td>\n",
       "      <td>11</td>\n",
       "      <td>49</td>\n",
       "      <td>95</td>\n",
       "      <td>5</td>\n",
       "      <td>18</td>\n",
       "    </tr>\n",
       "    <tr>\n",
       "      <th>to_personal_info</th>\n",
       "      <td>2461</td>\n",
       "      <td>2341</td>\n",
       "      <td>3</td>\n",
       "      <td>0</td>\n",
       "      <td>2</td>\n",
       "      <td>19</td>\n",
       "      <td>1488</td>\n",
       "      <td>4</td>\n",
       "      <td>35</td>\n",
       "      <td>92001</td>\n",
       "      <td>528004</td>\n",
       "    </tr>\n",
       "    <tr>\n",
       "      <th>to_register</th>\n",
       "      <td>0</td>\n",
       "      <td>30</td>\n",
       "      <td>1</td>\n",
       "      <td>1</td>\n",
       "      <td>77</td>\n",
       "      <td>0</td>\n",
       "      <td>0</td>\n",
       "      <td>0</td>\n",
       "      <td>57</td>\n",
       "      <td>0</td>\n",
       "      <td>1</td>\n",
       "    </tr>\n",
       "  </tbody>\n",
       "</table>\n",
       "</div>"
      ],
      "text/plain": [
       "                    from_biometric_auth  from_loan_index  from_operator  \\\n",
       "to_bind_debit_card                    8           114913            688   \n",
       "to_biometric_auth                  2368              139              1   \n",
       "to_biometric_auto                     0            28002             11   \n",
       "to_contacts_info                    118            10193             17   \n",
       "to_id_verify                        119           169595             38   \n",
       "to_loan_index                       210          1782391         162697   \n",
       "to_loan_submission                    3           262439            475   \n",
       "to_login                              7            47011            531   \n",
       "to_operator                           6            76096         131569   \n",
       "to_personal_info                   2461             2341              3   \n",
       "to_register                           0               30              1   \n",
       "\n",
       "                    from_bind_debit_card  from_register  from_contacts_info  \\\n",
       "to_bind_debit_card                133870              1                  14   \n",
       "to_biometric_auth                      1              1                   5   \n",
       "to_biometric_auto                      0              0                   5   \n",
       "to_contacts_info                       3              0              345553   \n",
       "to_id_verify                           9              8                  20   \n",
       "to_loan_index                     115315          22732               16030   \n",
       "to_loan_submission                  2304              1                   9   \n",
       "to_login                             210             54                 335   \n",
       "to_operator                           51              0               89757   \n",
       "to_personal_info                       0              2                  19   \n",
       "to_register                            1             77                   0   \n",
       "\n",
       "                    from_id_verify  from_loan_submission  from_login  \\\n",
       "to_bind_debit_card               7                  3660          11   \n",
       "to_biometric_auth             2516                     0          41   \n",
       "to_biometric_auto            93522                     0           2   \n",
       "to_contacts_info                40                     0           3   \n",
       "to_id_verify                408239                    21         406   \n",
       "to_loan_index                69185                236433      155899   \n",
       "to_loan_submission              26                 74852          86   \n",
       "to_login                      1385                  5536        2603   \n",
       "to_operator                     11                    49          95   \n",
       "to_personal_info              1488                     4          35   \n",
       "to_register                      0                     0          57   \n",
       "\n",
       "                    from_biometric_auto  from_personal_info  \n",
       "to_bind_debit_card                    0                   3  \n",
       "to_biometric_auth                     0                   6  \n",
       "to_biometric_auto                 46804                   6  \n",
       "to_contacts_info                      2               96098  \n",
       "to_id_verify                         29                  15  \n",
       "to_loan_index                     28680                2208  \n",
       "to_loan_submission                    0                  11  \n",
       "to_login                            310                  68  \n",
       "to_operator                           5                  18  \n",
       "to_personal_info                  92001              528004  \n",
       "to_register                           0                   1  "
      ]
     },
     "execution_count": 27,
     "metadata": {},
     "output_type": "execute_result"
    }
   ],
   "source": [
    "pd.DataFrame(page_trannsition_overview)"
   ]
  },
  {
   "cell_type": "markdown",
   "metadata": {},
   "source": [
    "## data usage"
   ]
  },
  {
   "cell_type": "code",
   "execution_count": 196,
   "metadata": {},
   "outputs": [
    {
     "data": {
      "text/plain": [
       "LabelEncoder()"
      ]
     },
     "execution_count": 196,
     "metadata": {},
     "output_type": "execute_result"
    }
   ],
   "source": [
    "le = LabelEncoder()\n",
    "le.fit([1,2,3,4])"
   ]
  },
  {
   "cell_type": "code",
   "execution_count": 197,
   "metadata": {},
   "outputs": [
    {
     "data": {
      "text/plain": [
       "array([0], dtype=int64)"
      ]
     },
     "execution_count": 197,
     "metadata": {},
     "output_type": "execute_result"
    }
   ],
   "source": [
    "le.fit_transform([1])"
   ]
  },
  {
   "cell_type": "code",
   "execution_count": 534,
   "metadata": {
    "ExecuteTime": {
     "end_time": "2019-10-10T12:50:50.352198Z",
     "start_time": "2019-10-10T12:50:50.343112Z"
    }
   },
   "outputs": [
    {
     "data": {
      "text/plain": [
       "LabelEncoder()"
      ]
     },
     "execution_count": 534,
     "metadata": {},
     "output_type": "execute_result"
    }
   ],
   "source": [
    "le = LabelEncoder()\n",
    "le.fit(['bind_credit_card',\n",
    " 'bind_debit_card',\n",
    " 'biometric_auto',\n",
    "        'biometric_auth',\n",
    " 'contacts_info',\n",
    " 'id_verify',\n",
    " 'loan_index',\n",
    " 'loan_submission',\n",
    " 'login',\n",
    " 'operator',\n",
    " 'personal_info',\n",
    " 'register',\n",
    " 'unknown'])"
   ]
  },
  {
   "cell_type": "code",
   "execution_count": 200,
   "metadata": {
    "ExecuteTime": {
     "end_time": "2019-10-10T14:30:28.690983Z",
     "start_time": "2019-10-10T14:30:28.474601Z"
    }
   },
   "outputs": [],
   "source": [
    "## here's the logic for which data should be dropped entirely and which data should be included as missing valued data\n",
    "\n",
    "user_id_with_data = set([x.split(\"|\")[0] for x in sequential_behavior if len(sequential_behavior[x])!=0])\n",
    "\n",
    "user_id_without_data = set([x.split(\"|\")[0] for x in sequential_behavior if len(sequential_behavior[x])==0])\n",
    "\n",
    "user_id_without_data_should_keep = [x for x in user_id_without_data if x in user_id_with_data]\n",
    "\n"
   ]
  },
  {
   "cell_type": "code",
   "execution_count": 201,
   "metadata": {
    "ExecuteTime": {
     "end_time": "2019-10-10T14:30:40.197165Z",
     "start_time": "2019-10-10T14:30:40.174541Z"
    }
   },
   "outputs": [],
   "source": [
    "final_user_id = list(user_id_with_data) + list(set(user_id_without_data_should_keep))"
   ]
  },
  {
   "cell_type": "code",
   "execution_count": 205,
   "metadata": {
    "ExecuteTime": {
     "end_time": "2019-10-10T15:26:22.449962Z",
     "start_time": "2019-10-10T15:26:22.444368Z"
    }
   },
   "outputs": [],
   "source": [
    "pstart = [x['pstime'] for x in a]\n",
    "    \n",
    "pend = ([x['petime'] for x in a])"
   ]
  },
  {
   "cell_type": "code",
   "execution_count": 402,
   "metadata": {
    "ExecuteTime": {
     "end_time": "2019-10-10T15:30:24.324094Z",
     "start_time": "2019-10-10T15:30:24.312789Z"
    }
   },
   "outputs": [],
   "source": [
    "def data_process(sequence_for_a_single_application):\n",
    "    \n",
    "    check=lambda x,y: x[y] if y in x else \"NAN\"\n",
    "    \n",
    "#     columns=sequence_for_a_single_application.columns\n",
    "    \n",
    "    sequence_for_a_single_application.sort(key=lambda x : x['petime'])\n",
    "    \n",
    "    page_sequence = [check(x,'pname') for x in sequence_for_a_single_application]\n",
    "    \n",
    "    pstart = [check(x,'pstime') for x in sequence_for_a_single_application]\n",
    "    \n",
    "    pend = ([check(x,'petime') for x in sequence_for_a_single_application])\n",
    "    \n",
    "    page_stay_time = [(y-x)/1000 for x,y in zip(pstart, pend)]\n",
    "    \n",
    "    page_lagg_time = [(x-y)/1000 if (x-y)//1000<600 else -1 for x,y in zip(pstart[1:], pend[:-1])] \n",
    "    # calculate the duration between the end of last action and the start of current action\n",
    "    # if this lag is more than 10 minutes we ignore the quantitative meaning of this value\n",
    "    \n",
    "    page_sequence = le.transform(page_sequence)\n",
    "    \n",
    "    \n",
    "    pid = [check(x,'pid') for x in sequence_for_a_single_application]\n",
    "    sid = [check(x,'sid') for x in sequence_for_a_single_application]\n",
    "    \n",
    "    return page_sequence, page_stay_time, page_lagg_time, pid, sid\n",
    "\n",
    "\n",
    "# 这里的是分钟。  大于10分钟的全部ignore. \n",
    "# 那么follow一样的套路。每组前面加上一串序列：[-1,0,]\n",
    "# 此外，这里是按秒来计算的..."
   ]
  },
  {
   "cell_type": "code",
   "execution_count": 407,
   "metadata": {
    "ExecuteTime": {
     "end_time": "2019-10-10T15:35:09.174393Z",
     "start_time": "2019-10-10T15:35:09.158673Z"
    }
   },
   "outputs": [],
   "source": [
    "# data generator body\n",
    "\n",
    "def file_generator(data):\n",
    "    '''\n",
    "    create a generator for files\n",
    "    '''\n",
    "    i = -1\n",
    "    while True:\n",
    "        i+=1\n",
    "        if i<len(data):\n",
    "            yield list(set(data[i].keys()))\n",
    "        else:\n",
    "            i=-1\n",
    "\n",
    "def data_generator(original_data,ydata_driver, batch_size = 32):\n",
    "    if type(original_data)!=list:\n",
    "        file_gen = file_generator([original_data])\n",
    "    else:\n",
    "        file_gen = file_generator(original_data)\n",
    "    data_keys = next(file_gen)\n",
    "    \n",
    "    y_=ydata_driver.loc[data_keys,\"overdue\"].values.tolist()\n",
    "    \n",
    "    while True:\n",
    "        total_batch = len(data_keys)//batch_size\n",
    "        if total_batch < len(data_keys)/batch_size:\n",
    "            total_batch+=1\n",
    "        n_batch = 0\n",
    "        while n_batch<total_batch:\n",
    "            b_sequence = []\n",
    "            p_staytime_sequence = []\n",
    "            p_lag_sequence = []\n",
    "            pid_sequence=[]\n",
    "            sid_sequence=[]\n",
    "            start = n_batch*batch_size\n",
    "            end = (n_batch+1)*batch_size\n",
    "            for keys in data_keys[start:end]:\n",
    "                page_sequence, page_stay_time, page_lagg_time,pid,sid = data_process(original_data[keys])\n",
    "                page_sequence=[int(i_) for i_ in page_sequence]\n",
    "                b_sequence.append(page_sequence)\n",
    "                p_staytime_sequence.append(page_stay_time)\n",
    "                p_lag_sequence.append([0,]+page_lagg_time)\n",
    "                pid_sequence.append(pid)\n",
    "                sid_sequence.append(sid)\n",
    "                y_value=y_[start:end]\n",
    "            n_batch +=1\n",
    "            yield b_sequence,p_staytime_sequence,p_lag_sequence,pid_sequence,sid_sequence,y_value\n",
    "        data_keys = next(file_gen)"
   ]
  },
  {
   "cell_type": "markdown",
   "metadata": {},
   "source": [
    "so in total, if there is 62 sequence, then will cover 90% percent of the data.\n",
    "so we will use 60 sequence, as the final total sequence we will use.\n",
    "\n",
    "如果说，没有足够60步，那么就用某个东西去填充他。如果超过60步，选取交易完成前的60步作为数据\n",
    "\n",
    "\n",
    "    translate: if the total sequence is less than 60, we use something before if to do the padding\n",
    "\n",
    "时间：-1代表超时，-10代表忽略项目\n",
    "\n",
    "    time: for lag time: we use -1 as lag time too long and -10 as used to do the padding\n",
    "\n",
    "page: -1 代表忽略项目（即填充的东西）\n",
    "    \n",
    "    for page type: use -1 to do the padding\n",
    "\n",
    "mtf: 使用： uniform，完全一致。（13个class + 一个 -1 代表填充物）\n",
    "时间上： uniform，完全一致。0-10分钟，每5秒钟记录一次 or \n",
    "\n",
    "\n",
    "    for MTF: there are types of parameter you can use to do the bins. so you might can have a look at it.\n",
    "\n",
    "\n",
    "I would say, simply use GAF to do the gragh: I do not know how to select a session for the time?  but GAF should be a good choice.\n",
    "\n",
    "for the GAF: adding a signal for time? how long it has spend? \n",
    "\n",
    "\n",
    "\n",
    "for RNN: \n",
    "simply use those sequence data, and we can put the pid and sid into it. as a sequence. we can just ignore this part for a second.\n",
    "\n",
    "\n"
   ]
  },
  {
   "cell_type": "markdown",
   "metadata": {},
   "source": [
    "# this part is for data cleaning and output\n"
   ]
  },
  {
   "cell_type": "code",
   "execution_count": 410,
   "metadata": {},
   "outputs": [],
   "source": [
    "import numpy as np"
   ]
  },
  {
   "cell_type": "code",
   "execution_count": 411,
   "metadata": {},
   "outputs": [],
   "source": [
    "a=np.array([1])"
   ]
  },
  {
   "cell_type": "code",
   "execution_count": 412,
   "metadata": {},
   "outputs": [
    {
     "data": {
      "text/plain": [
       "array([1, 1])"
      ]
     },
     "execution_count": 412,
     "metadata": {},
     "output_type": "execute_result"
    }
   ],
   "source": [
    "np.concatenate([a,a])"
   ]
  },
  {
   "cell_type": "code",
   "execution_count": 449,
   "metadata": {},
   "outputs": [],
   "source": [
    "N=20000\n",
    "storestep=2000\n",
    "path=\"D:/DeepLearningProjectDATA.json\""
   ]
  },
  {
   "cell_type": "code",
   "execution_count": 536,
   "metadata": {},
   "outputs": [],
   "source": [
    "data_ = data_generator(sequential_behavior,driver, batch_size = 1) # iteratively read and process data from raw sequential_behavior\n",
    "# batch_size controls how much data it process each iteration"
   ]
  },
  {
   "cell_type": "code",
   "execution_count": 538,
   "metadata": {},
   "outputs": [
    {
     "data": {
      "text/plain": [
       "'\\nfor pagetype: use -1 to pad\\nfor pagestay time: use -1 to pad\\nfor page lag time: use -10 \\\\ in the previous ,-1 is used to present long lags\\nfor sid: \"ignore\"\\nfor pid: \"ignore\"\\n\\nuse Json to store the data\\n\\n'"
      ]
     },
     "execution_count": 538,
     "metadata": {},
     "output_type": "execute_result"
    }
   ],
   "source": [
    "array_data=[]\n",
    "for i_ in range(N):\n",
    "    temp={}\n",
    "    b_sequence,p_staytime_sequence,p_lag_sequence,pid_sequence,sid_sequence,y_value=[i[0] for i in next(data_)]\n",
    "    if len(b_sequence)<=0:\n",
    "        continue\n",
    "    store=(b_sequence,p_staytime_sequence,p_lag_sequence,pid_sequence,sid_sequence)\n",
    "    re_data=[i[-60:] for i in store]\n",
    "    \n",
    "    if len(b_sequence)>=60:    \n",
    "        temp[\"y\"]=y_value\n",
    "        temp[\"data\"]=re_data\n",
    "        \n",
    "    else:\n",
    "        to_pad=60-len(b_sequence)\n",
    "        padding=[[-1]*to_pad,[-1]*to_pad,[-10]*to_pad,[\"ignore\"]*to_pad,[\"ignore\"]*to_pad]\n",
    "        re_data=[padding[i]+re_data[i] for i in range(5)]\n",
    "        \n",
    "        temp[\"y\"]=y_value\n",
    "        temp[\"data\"]=re_data\n",
    "    array_data.append(temp)\n",
    "    \n",
    "#     if i_%storestep==0:\n",
    "#         with open(path,\"w\") as file:\n",
    "#             file.write(json.dumps(array_data))\n",
    "#         print(\"store complete\")\n",
    "        \n",
    "\n",
    "with open(path,\"w\") as file:\n",
    "    file.write(json.dumps(array_data))\n",
    "        \n",
    "\n",
    "\n",
    "\n",
    "'''\n",
    "for pagetype: use -1 to pad\n",
    "for pagestay time: use -1 to pad\n",
    "for page lag time: use -10 \\ in the previous ,-1 is used to present long lags\n",
    "for sid: \"ignore\"\n",
    "for pid: \"ignore\"\n",
    "\n",
    "use Json to store the data\n",
    "\n",
    "'''\n",
    "        \n",
    "        \n",
    "    \n",
    "    "
   ]
  },
  {
   "cell_type": "markdown",
   "metadata": {},
   "source": [
    "# Data cleaning end here"
   ]
  },
  {
   "cell_type": "code",
   "execution_count": null,
   "metadata": {},
   "outputs": [],
   "source": []
  },
  {
   "cell_type": "code",
   "execution_count": null,
   "metadata": {},
   "outputs": [],
   "source": []
  },
  {
   "cell_type": "code",
   "execution_count": null,
   "metadata": {},
   "outputs": [],
   "source": []
  },
  {
   "cell_type": "code",
   "execution_count": null,
   "metadata": {},
   "outputs": [],
   "source": []
  },
  {
   "cell_type": "code",
   "execution_count": 543,
   "metadata": {},
   "outputs": [
    {
     "name": "stdout",
     "output_type": "stream",
     "text": [
      "a\n",
      "Wall time: 3.28 s\n"
     ]
    }
   ],
   "source": [
    "import json\n",
    "from sklearn.preprocessing import LabelEncoder\n",
    "import numpy as np\n",
    "%%time\n",
    "\n",
    "\n",
    "with open(path, 'r') as f:\n",
    "    for line in f.readlines():\n",
    "        print(\"a\")\n",
    "        sequential_data_clean.append(json.loads(line))"
   ]
  },
  {
   "cell_type": "code",
   "execution_count": 552,
   "metadata": {},
   "outputs": [],
   "source": [
    "def get_xy(sequential_data_clean):\n",
    "    y=[]\n",
    "    x_list=[np.array([0]*60)[np.newaxis,:]]*5\n",
    "    le = LabelEncoder()\n",
    "    for user in sequential_data_clean:\n",
    "        y.append(user['y'])\n",
    "    #     we will need to transform the sid and pid into label encoder\n",
    "        for i in range(3):\n",
    "            x_list[i]=np.concatenate([x_list[i],np.array(user['data'][i])[np.newaxis,:]],axis=0)\n",
    "        \n",
    "        x_list[3]=np.concatenate([x_list[3],le.fit_transform(user['data'][3])[np.newaxis,:]])\n",
    "        x_list[4]=np.concatenate([x_list[4],le.fit_transform(user['data'][4])[np.newaxis,:]])\n",
    "        \n",
    "    return x_list,y\n",
    "    \n",
    "    \n",
    "    \n",
    "    "
   ]
  },
  {
   "cell_type": "code",
   "execution_count": 554,
   "metadata": {},
   "outputs": [],
   "source": [
    "xk,yk=get_xy(sequential_data_clean[0])"
   ]
  },
  {
   "cell_type": "code",
   "execution_count": 555,
   "metadata": {},
   "outputs": [
    {
     "data": {
      "text/plain": [
       "[(14889, 60), (14889, 60), (14889, 60), (14889, 60), (14889, 60)]"
      ]
     },
     "execution_count": 555,
     "metadata": {},
     "output_type": "execute_result"
    }
   ],
   "source": [
    "[i.shape for i in xk]"
   ]
  },
  {
   "cell_type": "code",
   "execution_count": null,
   "metadata": {},
   "outputs": [],
   "source": []
  }
 ],
 "metadata": {
  "kernelspec": {
   "display_name": "Python 3",
   "language": "python",
   "name": "python3"
  },
  "language_info": {
   "codemirror_mode": {
    "name": "ipython",
    "version": 3
   },
   "file_extension": ".py",
   "mimetype": "text/x-python",
   "name": "python",
   "nbconvert_exporter": "python",
   "pygments_lexer": "ipython3",
   "version": "3.7.3"
  },
  "toc": {
   "base_numbering": 1,
   "nav_menu": {},
   "number_sections": true,
   "sideBar": true,
   "skip_h1_title": false,
   "title_cell": "Table of Contents",
   "title_sidebar": "Contents",
   "toc_cell": false,
   "toc_position": {},
   "toc_section_display": true,
   "toc_window_display": false
  }
 },
 "nbformat": 4,
 "nbformat_minor": 2
}
