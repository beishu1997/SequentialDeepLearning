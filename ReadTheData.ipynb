{
 "cells": [
  {
   "cell_type": "code",
   "execution_count": null,
   "metadata": {},
   "outputs": [],
   "source": [
    "'''\n",
    "total session for each user is 60 (covers up to 90% of all the users.)\n",
    "\n",
    "for pagetype: use -1 to pad\n",
    "for pagestay time: use -1 to pad\n",
    "for page lag time: use -10 \\ in the previous ,-1 is used to present long lags\n",
    "for sid: \"ignore\"\n",
    "for pid: \"ignore\"\n",
    "\n",
    "use Json to store the data\n",
    "\n",
    "'''"
   ]
  },
  {
   "cell_type": "code",
   "execution_count": 543,
   "metadata": {},
   "outputs": [
    {
     "name": "stdout",
     "output_type": "stream",
     "text": [
      "a\n",
      "Wall time: 3.28 s\n"
     ]
    }
   ],
   "source": [
    "import json\n",
    "from sklearn.preprocessing import LabelEncoder\n",
    "import numpy as np\n",
    "%%time\n",
    "# add your path here\n",
    "path=\n",
    "\n",
    "with open(path, 'r') as f:\n",
    "    for line in f.readlines():\n",
    "        print(\"a\")\n",
    "        sequential_data_clean.append(json.loads(line))"
   ]
  },
  {
   "cell_type": "code",
   "execution_count": 1,
   "metadata": {},
   "outputs": [],
   "source": [
    "def get_xy(sequential_data_clean):\n",
    "    '''\n",
    "    output: x_list -> list of arrays of page_type, page_stay, page_lag, sid, pid (sid and pid are all labels using fit transform)\n",
    "            y -> list of all the y values\n",
    "    \n",
    "    '''\n",
    "    y=[]\n",
    "    x_list=[np.array([0]*60)[np.newaxis,:]]*5\n",
    "    le = LabelEncoder()\n",
    "    for user in sequential_data_clean:\n",
    "        y.append(user['y'])\n",
    "    #     we will need to transform the sid and pid into label encoder\n",
    "        for i in range(3):\n",
    "            x_list[i]=np.concatenate([x_list[i],np.array(user['data'][i])[np.newaxis,:]],axis=0)\n",
    "        \n",
    "        x_list[3]=np.concatenate([x_list[3],le.fit_transform(user['data'][3])[np.newaxis,:]])\n",
    "        x_list[4]=np.concatenate([x_list[4],le.fit_transform(user['data'][4])[np.newaxis,:]])\n",
    "        \n",
    "    return x_list,y\n",
    "    \n",
    "    \n",
    "    "
   ]
  },
  {
   "cell_type": "code",
   "execution_count": 554,
   "metadata": {},
   "outputs": [],
   "source": [
    "xk,yk=get_xy(sequential_data_clean[0])"
   ]
  },
  {
   "cell_type": "code",
   "execution_count": 555,
   "metadata": {},
   "outputs": [
    {
     "data": {
      "text/plain": [
       "[(14889, 60), (14889, 60), (14889, 60), (14889, 60), (14889, 60)]"
      ]
     },
     "execution_count": 555,
     "metadata": {},
     "output_type": "execute_result"
    }
   ],
   "source": [
    "[i.shape for i in xk]"
   ]
  },
  {
   "cell_type": "code",
   "execution_count": null,
   "metadata": {},
   "outputs": [],
   "source": []
  }
 ],
 "metadata": {
  "kernelspec": {
   "display_name": "Python 3",
   "language": "python",
   "name": "python3"
  },
  "language_info": {
   "codemirror_mode": {
    "name": "ipython",
    "version": 3
   },
   "file_extension": ".py",
   "mimetype": "text/x-python",
   "name": "python",
   "nbconvert_exporter": "python",
   "pygments_lexer": "ipython3",
   "version": "3.7.3"
  },
  "toc": {
   "base_numbering": 1,
   "nav_menu": {},
   "number_sections": true,
   "sideBar": true,
   "skip_h1_title": false,
   "title_cell": "Table of Contents",
   "title_sidebar": "Contents",
   "toc_cell": false,
   "toc_position": {},
   "toc_section_display": true,
   "toc_window_display": false
  }
 },
 "nbformat": 4,
 "nbformat_minor": 2
}
